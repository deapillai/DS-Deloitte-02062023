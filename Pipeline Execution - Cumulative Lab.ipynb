{
 "cells": [
  {
   "cell_type": "code",
   "execution_count": null,
   "id": "603e725e",
   "metadata": {},
   "outputs": [],
   "source": [
    "Were you able to successfully create and execute the pipeline using the provided walkthrough?\n",
    "Yes, I was able to create and execute the pipeline. "
   ]
  },
  {
   "cell_type": "code",
   "execution_count": null,
   "id": "ad206c87",
   "metadata": {},
   "outputs": [],
   "source": [
    "What (if any) blockers did you encounter?\n",
    "I did not encounter any blockers. "
   ]
  },
  {
   "cell_type": "code",
   "execution_count": null,
   "id": "2764163d",
   "metadata": {},
   "outputs": [],
   "source": [
    "Do you have any suggestions for improving this material?\n",
    "I do not have any suggestions for improving this material. "
   ]
  }
 ],
 "metadata": {
  "kernelspec": {
   "display_name": "saturn (Python 3)",
   "language": "python",
   "name": "python3"
  },
  "language_info": {
   "codemirror_mode": {
    "name": "ipython",
    "version": 3
   },
   "file_extension": ".py",
   "mimetype": "text/x-python",
   "name": "python",
   "nbconvert_exporter": "python",
   "pygments_lexer": "ipython3",
   "version": "3.10.6"
  }
 },
 "nbformat": 4,
 "nbformat_minor": 5
}
